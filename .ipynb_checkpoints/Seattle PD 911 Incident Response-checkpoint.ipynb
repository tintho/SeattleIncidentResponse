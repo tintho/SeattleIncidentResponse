{
 "cells": [
  {
   "cell_type": "code",
   "execution_count": 1,
   "metadata": {
    "collapsed": true
   },
   "outputs": [],
   "source": [
    "import csv\n",
    "import pandas as pd\n",
    "import numpy as np\n",
    "import re\n",
    "import datetime as dt\n",
    "import time"
   ]
  },
  {
   "cell_type": "code",
   "execution_count": 2,
   "metadata": {
    "collapsed": true
   },
   "outputs": [],
   "source": [
    "df = pd.read_csv(\"Seattle_Police_Department_911_Incident_Response.csv\", parse_dates=[0], infer_datetime_format=True)"
   ]
  },
  {
   "cell_type": "code",
   "execution_count": 3,
   "metadata": {
    "collapsed": true
   },
   "outputs": [],
   "source": [
    "temp = pd.DatetimeIndex(df['Event Clearance Date'])"
   ]
  },
  {
   "cell_type": "code",
   "execution_count": 4,
   "metadata": {
    "collapsed": false
   },
   "outputs": [
    {
     "data": {
      "text/plain": [
       "DatetimeIndex(['2010-07-17 20:49:00', '2010-07-17 20:50:00',\n",
       "               '2010-07-17 20:55:00', '2010-07-17 21:00:00',\n",
       "               '2010-07-17 21:00:00', '2010-07-17 21:02:00',\n",
       "               '2010-07-17 21:04:00', '2010-07-17 21:05:00',\n",
       "               '2010-07-17 21:09:00', '2010-07-17 21:17:00',\n",
       "               ...\n",
       "                               'NaT',                 'NaT',\n",
       "                               'NaT',                 'NaT',\n",
       "                               'NaT',                 'NaT',\n",
       "                               'NaT',                 'NaT',\n",
       "                               'NaT',                 'NaT'],\n",
       "              dtype='datetime64[ns]', length=1330141, freq=None)"
      ]
     },
     "execution_count": 4,
     "metadata": {},
     "output_type": "execute_result"
    }
   ],
   "source": [
    "temp"
   ]
  },
  {
   "cell_type": "code",
   "execution_count": 5,
   "metadata": {
    "collapsed": true
   },
   "outputs": [],
   "source": [
    "df['Event Clearance Time'] = temp"
   ]
  },
  {
   "cell_type": "code",
   "execution_count": 6,
   "metadata": {
    "collapsed": false
   },
   "outputs": [
    {
     "data": {
      "text/plain": [
       "0         2010-07-17 20:49:00\n",
       "1         2010-07-17 20:50:00\n",
       "2         2010-07-17 20:55:00\n",
       "3         2010-07-17 21:00:00\n",
       "4         2010-07-17 21:00:00\n",
       "5         2010-07-17 21:02:00\n",
       "6         2010-07-17 21:04:00\n",
       "7         2010-07-17 21:05:00\n",
       "8         2010-07-17 21:09:00\n",
       "9         2010-07-17 21:17:00\n",
       "10        2010-07-17 21:18:00\n",
       "11        2010-07-17 21:28:00\n",
       "12        2010-07-17 21:28:00\n",
       "13        2010-07-17 21:30:00\n",
       "14        2010-07-17 21:31:00\n",
       "15        2010-07-17 21:31:00\n",
       "16        2010-07-17 21:39:00\n",
       "17        2010-07-17 21:41:00\n",
       "18        2010-07-17 21:46:00\n",
       "19        2010-07-17 21:47:00\n",
       "20        2010-07-17 21:54:00\n",
       "21        2010-07-17 21:37:00\n",
       "22        2010-07-17 21:41:00\n",
       "23        2010-07-17 21:46:00\n",
       "24        2010-07-17 21:48:00\n",
       "25        2010-07-17 20:33:00\n",
       "26        2010-07-17 20:33:00\n",
       "27        2010-07-17 20:38:00\n",
       "28        2010-07-17 20:39:00\n",
       "29        2010-07-17 20:42:00\n",
       "                  ...        \n",
       "1330111   2015-07-11 11:45:00\n",
       "1330112   2015-07-11 11:48:00\n",
       "1330113   2015-07-11 11:44:00\n",
       "1330114   2015-07-11 11:50:00\n",
       "1330115   2015-07-11 11:43:00\n",
       "1330116   2015-07-11 11:46:00\n",
       "1330117   2015-07-06 19:31:00\n",
       "1330118   2015-07-11 12:05:00\n",
       "1330119   2015-07-11 12:01:00\n",
       "1330120   2015-07-11 12:08:00\n",
       "1330121   2015-07-11 12:05:00\n",
       "1330122   2015-07-11 12:04:00\n",
       "1330123   2015-07-06 18:17:00\n",
       "1330124   2015-07-11 12:45:00\n",
       "1330125   2015-07-11 12:47:00\n",
       "1330126   2015-07-11 12:44:00\n",
       "1330127   2015-07-11 12:54:00\n",
       "1330128   2015-07-11 12:56:00\n",
       "1330129   2015-07-11 13:39:00\n",
       "1330130   2015-07-11 14:05:00\n",
       "1330131                   NaT\n",
       "1330132                   NaT\n",
       "1330133                   NaT\n",
       "1330134                   NaT\n",
       "1330135                   NaT\n",
       "1330136                   NaT\n",
       "1330137                   NaT\n",
       "1330138                   NaT\n",
       "1330139                   NaT\n",
       "1330140                   NaT\n",
       "Name: Event Clearance Time, dtype: datetime64[ns]"
      ]
     },
     "execution_count": 6,
     "metadata": {},
     "output_type": "execute_result"
    }
   ],
   "source": [
    "df['Event Clearance Time']"
   ]
  },
  {
   "cell_type": "code",
   "execution_count": 7,
   "metadata": {
    "collapsed": false
   },
   "outputs": [],
   "source": [
    "df['Event Clearance Seconds'] = pd.DatetimeIndex(df['Event Clearance Date']).hour *3600 + pd.DatetimeIndex(df['Event Clearance Date']).minute *60"
   ]
  },
  {
   "cell_type": "code",
   "execution_count": 11,
   "metadata": {
    "collapsed": false
   },
   "outputs": [
    {
     "data": {
      "text/plain": [
       "0          74940.0\n",
       "1          75000.0\n",
       "2          75300.0\n",
       "3          75600.0\n",
       "4          75600.0\n",
       "5          75720.0\n",
       "6          75840.0\n",
       "7          75900.0\n",
       "8          76140.0\n",
       "9          76620.0\n",
       "10         76680.0\n",
       "11         77280.0\n",
       "12         77280.0\n",
       "13         77400.0\n",
       "14         77460.0\n",
       "15         77460.0\n",
       "16         77940.0\n",
       "17         78060.0\n",
       "18         78360.0\n",
       "19         78420.0\n",
       "20         78840.0\n",
       "21         77820.0\n",
       "22         78060.0\n",
       "23         78360.0\n",
       "24         78480.0\n",
       "25         73980.0\n",
       "26         73980.0\n",
       "27         74280.0\n",
       "28         74340.0\n",
       "29         74520.0\n",
       "            ...   \n",
       "1330111    42300.0\n",
       "1330112    42480.0\n",
       "1330113    42240.0\n",
       "1330114    42600.0\n",
       "1330115    42180.0\n",
       "1330116    42360.0\n",
       "1330117    70260.0\n",
       "1330118    43500.0\n",
       "1330119    43260.0\n",
       "1330120    43680.0\n",
       "1330121    43500.0\n",
       "1330122    43440.0\n",
       "1330123    65820.0\n",
       "1330124    45900.0\n",
       "1330125    46020.0\n",
       "1330126    45840.0\n",
       "1330127    46440.0\n",
       "1330128    46560.0\n",
       "1330129    49140.0\n",
       "1330130    50700.0\n",
       "1330131        NaN\n",
       "1330132        NaN\n",
       "1330133        NaN\n",
       "1330134        NaN\n",
       "1330135        NaN\n",
       "1330136        NaN\n",
       "1330137        NaN\n",
       "1330138        NaN\n",
       "1330139        NaN\n",
       "1330140        NaN\n",
       "Name: Event Clearance Seconds, dtype: float64"
      ]
     },
     "execution_count": 11,
     "metadata": {},
     "output_type": "execute_result"
    }
   ],
   "source": [
    "df['Event Clearance Seconds']"
   ]
  },
  {
   "cell_type": "code",
   "execution_count": 24,
   "metadata": {
    "collapsed": false
   },
   "outputs": [
    {
     "name": "stdout",
     "output_type": "stream",
     "text": [
      "25196.37212952583\n",
      "48387.82390145636\n",
      "52200.0\n",
      "634857168.4895461\n",
      "86340.0\n",
      "0.0\n"
     ]
    }
   ],
   "source": [
    "print(df['Event Clearance Seconds'].std()) #Standard Deviation\n",
    "print(df['Event Clearance Seconds'].mean()) #Mean\n",
    "print(df['Event Clearance Seconds'].median()) #Median\n",
    "print(df['Event Clearance Seconds'].max()) #Max\n",
    "print(df['Event Clearance Seconds'].min()) #Min"
   ]
  },
  {
   "cell_type": "code",
   "execution_count": 30,
   "metadata": {
    "collapsed": false
   },
   "outputs": [
    {
     "name": "stdout",
     "output_type": "stream",
     "text": [
      "6.9989922582016195\n",
      "13.441062194848989\n",
      "14.5\n"
     ]
    }
   ],
   "source": [
    "print(df['Event Clearance Seconds'].std() / 3600)\n",
    "print(df['Event Clearance Seconds'].mean() / 3600)\n",
    "print(df['Event Clearance Seconds'].median() / 3600)"
   ]
  },
  {
   "cell_type": "code",
   "execution_count": 31,
   "metadata": {
    "collapsed": false
   },
   "outputs": [
    {
     "data": {
      "text/plain": [
       "30.0"
      ]
     },
     "execution_count": 31,
     "metadata": {},
     "output_type": "execute_result"
    }
   ],
   "source": [
    ".37 * 60 # Standard Deviation is about 7 hours\n",
    ".44 * 60 # Mean is 1:26pm\n",
    ".5 * 60 # Median is 2:30pm"
   ]
  },
  {
   "cell_type": "code",
   "execution_count": null,
   "metadata": {
    "collapsed": true
   },
   "outputs": [],
   "source": []
  }
 ],
 "metadata": {
  "anaconda-cloud": {},
  "kernelspec": {
   "display_name": "Python [conda root]",
   "language": "python",
   "name": "conda-root-py"
  },
  "language_info": {
   "codemirror_mode": {
    "name": "ipython",
    "version": 3
   },
   "file_extension": ".py",
   "mimetype": "text/x-python",
   "name": "python",
   "nbconvert_exporter": "python",
   "pygments_lexer": "ipython3",
   "version": "3.5.2"
  }
 },
 "nbformat": 4,
 "nbformat_minor": 1
}
